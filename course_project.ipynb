{
 "cells": [
  {
   "cell_type": "code",
   "execution_count": 1,
   "metadata": {},
   "outputs": [],
   "source": [
    "import numpy as np\n",
    "import pandas as pd"
   ]
  },
  {
   "cell_type": "markdown",
   "metadata": {},
   "source": [
    "### Чтение данных"
   ]
  },
  {
   "cell_type": "code",
   "execution_count": 2,
   "metadata": {},
   "outputs": [],
   "source": [
    "train = pd.read_csv('train.csv')\n",
    "test = pd.read_csv('test.csv')"
   ]
  },
  {
   "cell_type": "code",
   "execution_count": 3,
   "metadata": {},
   "outputs": [
    {
     "name": "stdout",
     "output_type": "stream",
     "text": [
      "<class 'pandas.core.frame.DataFrame'>\n",
      "RangeIndex: 10000 entries, 0 to 9999\n",
      "Data columns (total 20 columns):\n",
      "Id               10000 non-null int64\n",
      "DistrictId       10000 non-null int64\n",
      "Rooms            10000 non-null float64\n",
      "Square           10000 non-null float64\n",
      "LifeSquare       7887 non-null float64\n",
      "KitchenSquare    10000 non-null float64\n",
      "Floor            10000 non-null int64\n",
      "HouseFloor       10000 non-null float64\n",
      "HouseYear        10000 non-null int64\n",
      "Ecology_1        10000 non-null float64\n",
      "Ecology_2        10000 non-null object\n",
      "Ecology_3        10000 non-null object\n",
      "Social_1         10000 non-null int64\n",
      "Social_2         10000 non-null int64\n",
      "Social_3         10000 non-null int64\n",
      "Healthcare_1     5202 non-null float64\n",
      "Helthcare_2      10000 non-null int64\n",
      "Shops_1          10000 non-null int64\n",
      "Shops_2          10000 non-null object\n",
      "Price            10000 non-null float64\n",
      "dtypes: float64(8), int64(9), object(3)\n",
      "memory usage: 1.5+ MB\n"
     ]
    }
   ],
   "source": [
    "train.info()"
   ]
  },
  {
   "cell_type": "code",
   "execution_count": 4,
   "metadata": {},
   "outputs": [
    {
     "name": "stdout",
     "output_type": "stream",
     "text": [
      "<class 'pandas.core.frame.DataFrame'>\n",
      "RangeIndex: 5000 entries, 0 to 4999\n",
      "Data columns (total 19 columns):\n",
      "Id               5000 non-null int64\n",
      "DistrictId       5000 non-null int64\n",
      "Rooms            5000 non-null float64\n",
      "Square           5000 non-null float64\n",
      "LifeSquare       3959 non-null float64\n",
      "KitchenSquare    5000 non-null float64\n",
      "Floor            5000 non-null int64\n",
      "HouseFloor       5000 non-null float64\n",
      "HouseYear        5000 non-null int64\n",
      "Ecology_1        5000 non-null float64\n",
      "Ecology_2        5000 non-null object\n",
      "Ecology_3        5000 non-null object\n",
      "Social_1         5000 non-null int64\n",
      "Social_2         5000 non-null int64\n",
      "Social_3         5000 non-null int64\n",
      "Healthcare_1     2623 non-null float64\n",
      "Helthcare_2      5000 non-null int64\n",
      "Shops_1          5000 non-null int64\n",
      "Shops_2          5000 non-null object\n",
      "dtypes: float64(7), int64(9), object(3)\n",
      "memory usage: 742.3+ KB\n"
     ]
    }
   ],
   "source": [
    "test.info()"
   ]
  },
  {
   "cell_type": "markdown",
   "metadata": {},
   "source": [
    "### Предобработка данных"
   ]
  },
  {
   "cell_type": "code",
   "execution_count": 5,
   "metadata": {},
   "outputs": [],
   "source": [
    "def prepare_data(data, train_list=None):\n",
    "    data = data.drop('Healthcare_1', axis=1)\n",
    "    \n",
    "    # Корректировка года постройки\n",
    "    data.loc[data['HouseYear'] == 4968, 'HouseYear'] = 1968\n",
    "    data.loc[data['HouseYear'] == 20052011, 'HouseYear'] = 2008\n",
    "    \n",
    "    # Корректировка кол-ва комнат\n",
    "    data.loc[data['Rooms'] == 10, 'Rooms'] = 2\n",
    "    data.loc[data['Rooms'] == 19, 'Rooms'] = 1\n",
    "    \n",
    "    # Корректировка номера этажа\n",
    "    data.loc[data['HouseFloor'] == 0, 'HouseFloor'] = np.round(data.loc[data['HouseFloor'] != 0, 'HouseFloor'].median())\n",
    "    data.loc[data['Floor'] > data['HouseFloor'], 'Floor'] = data['HouseFloor']\n",
    "    \n",
    "    # Вычисление средней доли площади кухни и жилой площади в общей площади, средней площади комнаты, средней нежилой площади\n",
    "    data['KitchenSqFrac'] = data['KitchenSquare'] / data['Square']\n",
    "    data['LifeSqFrac'] = data['LifeSquare'] / data['Square']\n",
    "    data['RoomSquare'] = data['LifeSquare'] / data['Rooms']\n",
    "    data['EmptySquare'] = data['Square'] - data['LifeSquare']\n",
    "    \n",
    "    if train_list is None: # для трейна\n",
    "        kitchen_square_frac_median = data['KitchenSqFrac'].median()\n",
    "        life_square_frac_median = data['LifeSqFrac'].median()\n",
    "        room_square_median = data['RoomSquare'].median()\n",
    "        empty_square_median = data['EmptySquare'].median()\n",
    "    \n",
    "    else: # для теста\n",
    "        kitchen_square_frac_median = train_list[0]\n",
    "        life_square_frac_median = train_list[1]\n",
    "        room_square_median = train_list[2]\n",
    "        empty_square_median = train_list[3]    \n",
    "    \n",
    "    # Корректировка площадей квартиры и количества комнат\n",
    "    data.loc[data['Rooms'] == 0, 'Rooms'] = np.round(data['Square'] * life_square_frac_median / room_square_median)\n",
    "    data.loc[data['Rooms'] == 0, 'Rooms'] = 1\n",
    "    data.loc[data['Square'] > (data['Rooms'] * room_square_median + empty_square_median), 'Square'] = data['Rooms'] * room_square_median + empty_square_median\n",
    "    data.loc[data['Square'] < room_square_median, 'Square'] = data['Rooms'] * room_square_median + empty_square_median\n",
    "\n",
    "    data['LifeSquare'] = data['LifeSquare'].fillna(data['Square'] * life_square_frac_median)\n",
    "\n",
    "    data['LifeSqFrac'] = data['LifeSquare'] / data['Square']\n",
    "    data['KitchenSqFrac'] = data['KitchenSquare'] / data['Square']\n",
    "    data['RoomSquare'] = data['LifeSquare'] / data['Rooms']\n",
    "    data['EmptySquare'] = data['Square'] - data['LifeSquare']\n",
    "\n",
    "    data.loc[data['LifeSqFrac'] < 0.45, 'LifeSquare'] = data['Square'] * life_square_frac_median\n",
    "    data.loc[data['LifeSqFrac'] > 0.8, 'LifeSquare'] = data['Square'] * life_square_frac_median\n",
    "    data.loc[data['KitchenSqFrac'] < 0.1, 'KitchenSquare'] = data['Square'] * kitchen_square_frac_median\n",
    "    data.loc[data['KitchenSqFrac'] > 0.2, 'KitchenSquare'] = data['Square'] * kitchen_square_frac_median\n",
    "    data.loc[data['KitchenSquare'] < 5, 'KitchenSquare'] = 5\n",
    "    \n",
    "    # Вычисленной средней стоимости квадратного метра по районам\n",
    "    if train_list is None: # для трейна\n",
    "        data['SqMeterPrice'] = data['Price'] / data['Square']\n",
    "        stat1 = data.groupby(['DistrictId', 'Rooms'], as_index=False)[['SqMeterPrice']].mean().rename(columns={'SqMeterPrice':'MeanSqMeterPrice'})\n",
    "        stat2 = data.groupby(['Rooms'], as_index=False)[['SqMeterPrice']].mean().rename(columns={'SqMeterPrice':'MeanSqMeterPrice2'})\n",
    "        mean_price3 = data['SqMeterPrice'].mean()\n",
    "        \n",
    "    else: # для теста\n",
    "        stat1 = train_list[4] \n",
    "        stat2 = train_list[5] \n",
    "        mean_price3 = train_list[6] \n",
    "        \n",
    "    data = pd.merge(data, stat1, on=['DistrictId', 'Rooms'], how='left')\n",
    "    data = pd.merge(data, stat2, on='Rooms', how='left')\n",
    "    \n",
    "    data['MeanSqMeterPrice2'] = data['MeanSqMeterPrice2'].fillna(mean_price3)\n",
    "    data['MeanSqMeterPrice'] = data['MeanSqMeterPrice'].fillna(data['MeanSqMeterPrice2'])\n",
    "    \n",
    "    # Обработка категориальных признаков\n",
    "    data = pd.get_dummies(data)\n",
    "    \n",
    "    return data, [kitchen_square_frac_median, life_square_frac_median, room_square_median, empty_square_median, stat1, stat2, mean_price3]"
   ]
  },
  {
   "cell_type": "code",
   "execution_count": 6,
   "metadata": {},
   "outputs": [],
   "source": [
    "train, train_list = prepare_data(train)"
   ]
  },
  {
   "cell_type": "code",
   "execution_count": 7,
   "metadata": {},
   "outputs": [],
   "source": [
    "test, _ = prepare_data(test, train_list)"
   ]
  },
  {
   "cell_type": "markdown",
   "metadata": {},
   "source": [
    "### Моделирование"
   ]
  },
  {
   "cell_type": "code",
   "execution_count": 8,
   "metadata": {},
   "outputs": [],
   "source": [
    "from sklearn.ensemble import GradientBoostingRegressor\n",
    "from sklearn.model_selection import GridSearchCV, train_test_split, KFold\n",
    "from sklearn.preprocessing import RobustScaler\n",
    "from sklearn.metrics import r2_score"
   ]
  },
  {
   "cell_type": "code",
   "execution_count": 9,
   "metadata": {},
   "outputs": [],
   "source": [
    "feats = ['Rooms', 'Square', 'LifeSquare', 'KitchenSquare', 'Floor', 'HouseFloor', 'HouseYear',\n",
    "        'MeanSqMeterPrice', 'Ecology_1', 'Ecology_2_A', 'Ecology_2_B', 'Ecology_3_A', 'Ecology_3_B', \n",
    "        'Social_1', 'Social_2', 'Social_3', 'Helthcare_2', 'Shops_1', 'Shops_2_A', 'Shops_2_B']"
   ]
  },
  {
   "cell_type": "code",
   "execution_count": 10,
   "metadata": {},
   "outputs": [],
   "source": [
    "x_train, x_val, y_train, y_val = train_test_split(train[feats], train['Price'], test_size=0.30, random_state=42)"
   ]
  },
  {
   "cell_type": "code",
   "execution_count": 11,
   "metadata": {},
   "outputs": [],
   "source": [
    "scaler = RobustScaler()\n",
    "x_train[feats] = scaler.fit_transform(x_train[feats])\n",
    "x_val[feats] = scaler.transform(x_val[feats])"
   ]
  },
  {
   "cell_type": "code",
   "execution_count": 12,
   "metadata": {},
   "outputs": [],
   "source": [
    "params = [{'n_estimators': [10, 50, 100, 500],\n",
    "'max_depth': [1, 5, 10],\n",
    "'learning_rate': [0.01, 0.1, 1.0]}]"
   ]
  },
  {
   "cell_type": "code",
   "execution_count": 13,
   "metadata": {},
   "outputs": [],
   "source": [
    "clf = GradientBoostingRegressor(learning_rate=0.1, n_estimators=100, max_depth=5, random_state=42)"
   ]
  },
  {
   "cell_type": "code",
   "execution_count": 14,
   "metadata": {},
   "outputs": [
    {
     "data": {
      "text/plain": [
       "GradientBoostingRegressor(alpha=0.9, criterion='friedman_mse', init=None,\n",
       "             learning_rate=0.1, loss='ls', max_depth=5, max_features=None,\n",
       "             max_leaf_nodes=None, min_impurity_decrease=0.0,\n",
       "             min_impurity_split=None, min_samples_leaf=1,\n",
       "             min_samples_split=2, min_weight_fraction_leaf=0.0,\n",
       "             n_estimators=100, presort='auto', random_state=42,\n",
       "             subsample=1.0, verbose=0, warm_start=False)"
      ]
     },
     "execution_count": 14,
     "metadata": {},
     "output_type": "execute_result"
    }
   ],
   "source": [
    "clf.fit(x_train, y_train)"
   ]
  },
  {
   "cell_type": "code",
   "execution_count": 15,
   "metadata": {},
   "outputs": [
    {
     "data": {
      "text/plain": [
       "0.8582900155046752"
      ]
     },
     "execution_count": 15,
     "metadata": {},
     "output_type": "execute_result"
    }
   ],
   "source": [
    "y_pred = clf.predict(x_train)\n",
    "r2_score(y_train, y_pred)"
   ]
  },
  {
   "cell_type": "code",
   "execution_count": 16,
   "metadata": {},
   "outputs": [
    {
     "data": {
      "text/plain": [
       "0.7314518753386834"
      ]
     },
     "execution_count": 16,
     "metadata": {},
     "output_type": "execute_result"
    }
   ],
   "source": [
    "y_pred = clf.predict(x_val)\n",
    "r2_score(y_val, y_pred)"
   ]
  },
  {
   "cell_type": "code",
   "execution_count": 17,
   "metadata": {},
   "outputs": [
    {
     "name": "stdout",
     "output_type": "stream",
     "text": [
      "Наиболее значимые признаки: MeanSqMeterPrice LifeSquare HouseYear\n",
      "Наименее значимые признаки: Ecology_2_A Shops_2_A Ecology_2_B\n"
     ]
    }
   ],
   "source": [
    "idx_array = np.argsort(clf.feature_importances_)[::-1]\n",
    "print(\"Наиболее значимые признаки:\", feats[idx_array[0]], feats[idx_array[1]], feats[idx_array[2]])\n",
    "idx_array = np.argsort(clf.feature_importances_)\n",
    "print(\"Наименее значимые признаки:\", feats[idx_array[0]], feats[idx_array[1]], feats[idx_array[2]])"
   ]
  },
  {
   "cell_type": "markdown",
   "metadata": {},
   "source": [
    "### Предсказание"
   ]
  },
  {
   "cell_type": "code",
   "execution_count": 18,
   "metadata": {},
   "outputs": [],
   "source": [
    "test[feats] = scaler.transform(test[feats])"
   ]
  },
  {
   "cell_type": "code",
   "execution_count": 19,
   "metadata": {},
   "outputs": [],
   "source": [
    "test['Price'] = clf.predict(test[feats])"
   ]
  },
  {
   "cell_type": "code",
   "execution_count": 20,
   "metadata": {},
   "outputs": [
    {
     "data": {
      "text/plain": [
       "count      5000.000000\n",
       "mean     214938.655302\n",
       "std       79507.188804\n",
       "min       63964.566322\n",
       "25%      162593.048529\n",
       "50%      196267.452180\n",
       "75%      246189.951058\n",
       "max      568782.921963\n",
       "Name: Price, dtype: float64"
      ]
     },
     "execution_count": 20,
     "metadata": {},
     "output_type": "execute_result"
    }
   ],
   "source": [
    "test['Price'].describe()"
   ]
  },
  {
   "cell_type": "code",
   "execution_count": 21,
   "metadata": {},
   "outputs": [],
   "source": [
    "test.loc[:, ['Id', 'Price']].to_csv('VMaksimenko_predictions.csv', index=False)"
   ]
  },
  {
   "cell_type": "code",
   "execution_count": null,
   "metadata": {},
   "outputs": [],
   "source": []
  }
 ],
 "metadata": {
  "kernelspec": {
   "display_name": "Python 3",
   "language": "python",
   "name": "python3"
  },
  "language_info": {
   "codemirror_mode": {
    "name": "ipython",
    "version": 3
   },
   "file_extension": ".py",
   "mimetype": "text/x-python",
   "name": "python",
   "nbconvert_exporter": "python",
   "pygments_lexer": "ipython3",
   "version": "3.6.4"
  }
 },
 "nbformat": 4,
 "nbformat_minor": 2
}
